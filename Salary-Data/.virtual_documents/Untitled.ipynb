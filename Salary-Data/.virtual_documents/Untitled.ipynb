import pandas as pd
import numpy as np


data = pd.read_csv('Salary_Data.csv')
data.head()


data.columns


data.shape


data.size


print(type(data))


data.info()


data.describe()


X = data.iloc[:, 0:1].values
y = data['Salary']
print(X.shape)
print(y.shape)





import matplotlib.pyplot as plt
import seaborn as sns


fig , axs = plt.subplots(nrows=1, ncols=2, figsize=(10, 5))
index = 0
axs = axs.flatten()

for k, v in data.items():
    sns.boxplot(y = k, data=data, ax=axs[index])
    index +=1 
plt.tight_layout(pad=0.1, w_pad=0.1, h_pad=0.5)





from sklearn.model_selection import train_test_split
X_train, X_test, y_train, y_test = train_test_split(X, y, random_state=123)
print(X_train.shape)
print(y_train.shape)
print(f"Data Size Train : {len(X_train)/len(X) * 100} %")
print(f"Data Size Test : {len(X_test)/len(X) * 100} %")


print(X_test.shape)
print(y_test.shape)





from sklearn.linear_model import SGDRegressor
sgdreg = SGDRegressor()
sgdreg.fit(X_train, y_train)


y_pred = sgdreg.predict(X_test)


from sklearn.metrics import r2_score


print(r2_score(y_test, y_pred))


w0_sgd = sgdreg.intercept_
w1_sgd = sgdreg.coef_
print(f"w0 = {w0_sgd}")
print(f"w1 = {w1_sgd}")





from sklearn.linear_model import LinearRegression
regressor = LinearRegression()
regressor.fit(X_train, y_train)


y_pred1 = regressor.predict(X_test)


print(r2_score(y_test, y_pred1))


w0_sgd = regressor.intercept_
w1_sgd = regressor.coef_
print(f"w0 = {w0_sgd}")
print(f"w1 = {w1_sgd}")







